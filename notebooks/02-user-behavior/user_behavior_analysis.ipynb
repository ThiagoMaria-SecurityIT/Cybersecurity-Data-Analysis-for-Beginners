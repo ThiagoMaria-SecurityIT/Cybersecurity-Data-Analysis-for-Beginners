# User Behavior Analysis Notebook
import pandas as pd
import matplotlib.pyplot as plt
from datetime import datetime

# Load auth data
auth_logs = pd.read_csv('../datasets/sample_logs/auth_processed.csv')

# Convert timestamps
auth_logs['datetime'] = pd.to_datetime(auth_logs['timestamp'])
auth_logs['hour'] = auth_logs['datetime'].dt.hour

# Baseline Analysis
print("=== Login Frequency by Hour ===")
login_hours = auth_logs['hour'].value_counts().sort_index()
login_hours.plot(kind='bar', title='Normal Login Patterns')
plt.xlabel('Hour of Day')
plt.ylabel('Login Attempts')

# Anomaly Detection
print("\n=== Suspicious Activity ===")
night_logins = auth_logs[(auth_logs['hour'] < 6) | (auth_logs['hour'] > 20)]
print(f"After-hours login attempts: {len(night_logins)}")

# Failed Login Analysis
failed_logins = auth_logs[auth_logs['status'] == 'Failed']
print("\nTop failed login IPs:")
print(failed_logins['source_ip'].value_counts().head(3))
