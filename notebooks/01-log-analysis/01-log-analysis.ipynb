failed_logins = log_data[log_data['status'] == 'Failed']
print(f"🚨 Found {len(failed_logins)} attacks!")
