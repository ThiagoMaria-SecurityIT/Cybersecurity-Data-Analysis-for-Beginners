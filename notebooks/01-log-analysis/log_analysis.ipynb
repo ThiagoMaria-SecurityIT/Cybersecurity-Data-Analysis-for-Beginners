# ISO27001 A.12.4 / NIST SP 800-92 Implementation
import pandas as pd
from scripts.log_parser import parse_auth_log

# Load sample data
df = parse_auth_log('../datasets/sample_logs/auth.log')

# Basic security analysis
failed_logins = df[df['user'] == 'root']
print(f"Brute force attempts detected: {len(failed_logins)}")
print("Top attacking IPs:")
print(failed_logins['ip'].value_counts().head())
