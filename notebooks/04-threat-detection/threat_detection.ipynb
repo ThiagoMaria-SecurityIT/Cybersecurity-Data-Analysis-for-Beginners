# Threat Detection Notebook
import pandas as pd
import json
from ipaddress import ip_address

# Load and merge datasets
with open('../datasets/sample_alerts/ids_alerts.json') as f:
    alerts = pd.json_normalize(json.load(f))
    
logins = pd.read_csv('../datasets/sample_logs/auth_processed.csv')
web_logs = pd.read_csv('../datasets/sample_logs/web_access.csv')

# Alert Correlation
print("=== High Severity Alerts ===")
high_sev = alerts[alerts['severity'].isin(['High','Critical'])]
print(high_sev[['timestamp','alert_type','src_ip']])

# Threat Intelligence Check
suspicious_ips = ['45.33.12.8', '198.51.100.3']
def check_threat_intel(ip):
    return ip in suspicious_ips

alerts['known_threat'] = alerts['src_ip'].apply(check_threat_intel)
print("\nAlerts from known suspicious IPs:")
print(alerts[alerts['known_threat'] == True])

# Cross-dataset Analysis
web_attacks = web_logs[web_logs['status'] == '403']
print("\nWeb attack attempts:")
print(web_attacks['ip'].value_counts())
