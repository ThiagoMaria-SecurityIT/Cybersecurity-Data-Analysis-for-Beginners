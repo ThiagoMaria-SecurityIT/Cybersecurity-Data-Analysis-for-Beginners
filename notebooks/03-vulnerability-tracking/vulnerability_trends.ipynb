# Vulnerability Trending Notebook
import pandas as pd
import seaborn as sns
from matplotlib import pyplot as plt

# Load vulnerability data
vulns = pd.read_json('../datasets/simulated_attacks/vulnerability_scan.json')

# Severity Analysis
severity_counts = vulns['severity'].value_counts()
print("=== Vulnerability Distribution ===")
print(severity_counts)

# Time-based Analysis
vulns['date_detected'] = pd.to_datetime(vulns['last_detected'])
vulns['week'] = vulns['date_detected'].dt.isocalendar().week

# Trend Visualization
plt.figure(figsize=(10,6))
sns.countplot(data=vulns, x='week', hue='severity')
plt.title('Weekly Vulnerability Trends')
plt.xlabel('Week Number')
plt.ylabel('Count')

# Critical Vulnerabilities
critical_vulns = vulns[vulns['severity'] == 'Critical']
print("\n=== Critical Vulnerabilities ===")
print(critical_vulns[['host','cve','service']])
